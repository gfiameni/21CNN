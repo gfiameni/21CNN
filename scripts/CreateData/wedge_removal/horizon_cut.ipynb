{
 "cells": [
  {
   "cell_type": "code",
   "execution_count": 1,
   "metadata": {},
   "outputs": [],
   "source": [
    "import argparse\n",
    "parser = argparse.ArgumentParser(prog = 'wedge removal')\n",
    "parser.add_argument('--max_WalkerID', type=int, default=10000)\n",
    "parser.add_argument('--seed_index', type=int, default=0)\n",
    "parser.add_argument('--uv_filename', type=str, default='uv_final.npy')\n",
    "parser.add_argument('--saving_fstring', type=str, default='lightcone_depthMhz_0_walker_{:04d}_slice_{:d}_seed_{:d}')\n",
    "parser.add_argument('--averages_fstring', type=str, default='averages_{}_float32.npy')\n",
    "parser.add_argument('--BoxesPath', type=str, default=\"/amphora/bradley.greig/21CMMC_wTs_LC_RSDs_Nicolas/Programs/LightConeBoxes\")\n",
    "parser.add_argument('--ParametersPath', type=str, default=\"/amphora/bradley.greig/21CMMC_wTs_LC_RSDs_Nicolas/Programs/GridPositions\")\n",
    "parser.add_argument('--depth_mhz', type=int, default = 0) # if depth==0 calculate it from cube, else fix it to given value\n",
    "# parser.add_argument('--uv_treshold', type=int, default = 1) # taking in account only baselines which were visited uv_treshold amount of times \n",
    "parser.add_argument('--SKA_observation_time', type=int, default = 1000)\n",
    "# inputs = parser.parse_args(\"--WalkerID 9999 --uv_filepath ../data/uv_Steven_15.npy --saving_location ../DatabaseTest --BoxesPath ../DatabaseTest --averages_fstring ../DatabaseTest/averages_{}_float32.npy\".split(\" \"))\n",
    "parser.add_argument('--chunk_length', type = int, default = 201)\n",
    "parser.add_argument('--wedge_correction', type=int, default = 1)\n",
    "parser.add_argument('--W_filepath', type=str, default='')\n",
    "inputs = parser.parse_args(\"--max_WalkerID 50 --seed_index 0 --uv_filename /scratch/d.prelogovic/data/uv.npy --saving_fstring /scratch/d.prelogovic/data/SKA_1000_wedge/lightcone_depthMhz_0_walker_{:04d}_slice_{:d}_seed_{:d} --averages_fstring /scratch/d.prelogovic/data/averages/averages_{}_float32.npy --BoxesPath /scratch/d.prelogovic/data/original_database --wedge_correction 5 --W_filepath /scratch/d.prelogovic/data/\".split(\" \"))"
   ]
  },
  {
   "cell_type": "code",
   "execution_count": 2,
   "metadata": {},
   "outputs": [
    {
     "ename": "ModuleNotFoundError",
     "evalue": "No module named 'src'",
     "output_type": "error",
     "traceback": [
      "\u001b[0;31m---------------------------------------------------------------------------\u001b[0m",
      "\u001b[0;31mModuleNotFoundError\u001b[0m                       Traceback (most recent call last)",
      "\u001b[0;32m<ipython-input-2-c495f0f65b8e>\u001b[0m in \u001b[0;36m<module>\u001b[0;34m\u001b[0m\n\u001b[1;32m      4\u001b[0m \u001b[0;32mimport\u001b[0m \u001b[0msys\u001b[0m\u001b[0;34m\u001b[0m\u001b[0;34m\u001b[0m\u001b[0m\n\u001b[1;32m      5\u001b[0m \u001b[0;32mimport\u001b[0m \u001b[0mos\u001b[0m\u001b[0;34m\u001b[0m\u001b[0;34m\u001b[0m\u001b[0m\n\u001b[0;32m----> 6\u001b[0;31m \u001b[0;32mfrom\u001b[0m \u001b[0msrc\u001b[0m\u001b[0;34m.\u001b[0m\u001b[0mpy21cnn\u001b[0m\u001b[0;34m.\u001b[0m\u001b[0mdatabase\u001b[0m \u001b[0;32mimport\u001b[0m \u001b[0mDatabaseUtils\u001b[0m\u001b[0;34m\u001b[0m\u001b[0;34m\u001b[0m\u001b[0m\n\u001b[0m\u001b[1;32m      7\u001b[0m \u001b[0;32mfrom\u001b[0m \u001b[0msrc\u001b[0m\u001b[0;34m.\u001b[0m\u001b[0mpy21cnn\u001b[0m\u001b[0;34m.\u001b[0m\u001b[0mformatting\u001b[0m \u001b[0;32mimport\u001b[0m \u001b[0mFilters\u001b[0m\u001b[0;34m\u001b[0m\u001b[0;34m\u001b[0m\u001b[0m\n\u001b[1;32m      8\u001b[0m \u001b[0;32mimport\u001b[0m \u001b[0mjson\u001b[0m\u001b[0;34m\u001b[0m\u001b[0;34m\u001b[0m\u001b[0m\n",
      "\u001b[0;31mModuleNotFoundError\u001b[0m: No module named 'src'"
     ]
    }
   ],
   "source": [
    "import numpy as np\n",
    "import cupy as cp\n",
    "cp.cuda.Device(1).use()\n",
    "import sys\n",
    "import os\n",
    "from src.py21cnn.database import DatabaseUtils\n",
    "from src.py21cnn.formatting import Filters\n",
    "import json\n",
    "\n",
    "import matplotlib.pyplot as plt\n",
    "import matplotlib\n",
    "plt.rc('text', usetex=True)\n",
    "plt.rc('font', family='serif')\n",
    "\n",
    "#define path to database, send to program as parameters if different from default\n",
    "Redshifts = ['006.00060', '006.75589', '007.63960', '008.68274', '009.92624', '011.42503', \\\n",
    "            '013.25424', '015.51874', '018.36856', '022.02434', '026.82138', '033.28927', '034.50984']\n",
    "Parameters = [\"ZETA\", \"TVIR_MIN\", \"L_X\", \"NU_X_THRESH\"]\n",
    "database = DatabaseUtils.Database(Parameters, Redshifts, inputs.BoxesPath, inputs.ParametersPath, xp = cp)\n",
    "deltaTmin = -250\n",
    "deltaTmax = 50\n",
    "Zmax = 30\n",
    "\n",
    "uv = cp.load(inputs.uv_filename).astype(np.float32)\n",
    "uv_bool = (uv < 1)\n",
    "\n",
    "Box_shape = (200, 200, 2107)\n",
    "\n",
    "averages = cp.empty((inputs.max_WalkerID, 1, 1, Box_shape[-1]))\n",
    "for walker in range(inputs.max_WalkerID):\n",
    "    average = np.load(inputs.averages_fstring.format(walker)).astype(np.float32)\n",
    "    average = Filters.RemoveLargeZ(average, database, Z=Zmax)\n",
    "    averages[walker, ...] = cp.asarray(average)"
   ]
  },
  {
   "cell_type": "code",
   "execution_count": 10,
   "metadata": {},
   "outputs": [],
   "source": [
    "Box_shape = (200, 200, 2107)\n",
    "\n",
    "import tools21cm as t2c\n",
    "N_ant = 512 #or 513?\n",
    "\n",
    "t2c.const.set_hubble_h(0.678)\n",
    "t2c.const.set_omega_matter(0.308)\n",
    "t2c.const.set_omega_baryon(0.048425)\n",
    "t2c.const.set_omega_lambda(0.692)\n",
    "t2c.const.set_ns(0.968)\n",
    "t2c.const.set_sigma_8(0.815)\n",
    "\n",
    "d0 = t2c.cosmology.z_to_cdist(6.0006)\n",
    "cdist = np.array(range(Box_shape[-1] + 1))*1.5 + d0\n",
    "redshifts = t2c.cosmology.cdist_to_z(cdist)\n",
    "redshifts_mean = (redshifts[:-1] + redshifts[1:]) / 2"
   ]
  },
  {
   "cell_type": "code",
   "execution_count": 4,
   "metadata": {},
   "outputs": [],
   "source": [
    "inputs.dimensions = (200, 200, 201)"
   ]
  },
  {
   "cell_type": "code",
   "execution_count": 5,
   "metadata": {},
   "outputs": [],
   "source": [
    "k0 = cp.fft.fftfreq(inputs.dimensions[0], d=1.5)\n",
    "k1 = cp.fft.fftfreq(inputs.dimensions[1], d=1.5)\n",
    "k2 = cp.fft.fftfreq(inputs.dimensions[2], d=1.5)\n",
    "delta_k = k0[1] - k0[0]\n",
    "k_cube = cp.meshgrid(k0, k1, k2)"
   ]
  },
  {
   "cell_type": "code",
   "execution_count": 7,
   "metadata": {},
   "outputs": [
    {
     "name": "stdout",
     "output_type": "stream",
     "text": [
      "0.04666666666666667\n"
     ]
    }
   ],
   "source": [
    "BM = cp.abs(cp.fft.fft(cp.blackman(inputs.dimensions[2])))**2\n",
    "BM = BM / cp.amax(BM)\n",
    "BM_smoothing = delta_k * (cp.sum(BM > 1e-10) - 1) / 2\n",
    "# BM_smoothing = BM_smoothing\n",
    "# BM_smoothing = 0\n",
    "print(BM_smoothing)"
   ]
  },
  {
   "cell_type": "code",
   "execution_count": 8,
   "metadata": {},
   "outputs": [],
   "source": [
    "def noise(depth_mhz, seed_index, walker):\n",
    "    finalBox = cp.empty(uv.shape, dtype = np.complex64)\n",
    "    for i in range(uv.shape[-1]):\n",
    "        if depth_mhz == 0:\n",
    "            depth_mhz = t2c.cosmology.z_to_nu(redshifts[i]) - t2c.cosmology.z_to_nu(redshifts[i+1])\n",
    "        noise = t2c.noise_model.noise_map(ncells=200,\n",
    "                                          z=redshifts_mean[i],\n",
    "                                          depth_mhz=depth_mhz,\n",
    "                                          obs_time=inputs.SKA_observation_time,\n",
    "                                          boxsize=300, \n",
    "                                          uv_map=uv[..., i],\n",
    "                                          N_ant=N_ant,\n",
    "                                          seed = 1000000*i + 100*walker + seed_index, #last index is noise number index\n",
    "                                          ) # I've corrected the function so it returns noise in uv, not in real space\n",
    "        noise = t2c.telescope_functions.jansky_2_kelvin(noise, redshifts_mean[i]).astype(np.complex64)\n",
    "        finalBox[..., i] = noise\n",
    "#     finalBox[uv_bool] = 0\n",
    "    return finalBox\n",
    "\n",
    "\n",
    "from scipy.integrate import quadrature\n",
    "def one_over_E(z):\n",
    "    return 1 / np.sqrt(t2c.const.Omega0*(1.+z)**3+t2c.const.lam)\n",
    "def multiplicative_factor(z):\n",
    "    return 1 / one_over_E(z) / (1+z) * quadrature(one_over_E, 0, z)[0]\n",
    "multiplicative_fact = cp.array([multiplicative_factor(z) for z in redshifts_mean]).astype(np.float32)\n",
    "\n",
    "chunk_length = 201\n",
    "BM = cp.blackman(chunk_length)[cp.newaxis, cp.newaxis, :]\n",
    "\n",
    "# k = cp.fft.fftfreq(200, d=1.5)\n",
    "# k_parallel = cp.fft.fftfreq(chunk_length, d=1.5)\n",
    "# k_cube = cp.meshgrid(k, k, k_parallel)\n",
    "# W = k_cube[2] / cp.sqrt(k_cube[0]**2 + k_cube[1]**2)\n",
    "# W = cp.load(f\"{inputs.W_filepath}W_{inputs.chunk_length}_{inputs.wedge_correction}.npy\")"
   ]
  },
  {
   "cell_type": "code",
   "execution_count": 9,
   "metadata": {},
   "outputs": [],
   "source": [
    "\n",
    "def manual_sliding(Box, Noise, blackman = True):\n",
    "    Box_final = cp.empty(Box.shape, dtype = np.float32)\n",
    "    Box_uv = cp.fft.fft2(Box, axes=(0, 1)) + Noise\n",
    "    Box_uv[uv_bool] = 0\n",
    "    \n",
    "    t_box = cp.copy(Box_uv[..., :chunk_length])\n",
    "    W = k_cube[2] / (cp.sqrt(k_cube[0]**2 + k_cube[1]**2) * (multiplicative_fact[chunk_length // 2] / inputs.wedge_correction) + BM_smoothing)\n",
    "    w = cp.logical_or(W < -1., W > 1.)\n",
    "    Box_final[..., :chunk_length // 2] = cp.real(cp.fft.ifftn(cp.fft.fft(t_box, axis = -1) * w))[..., :chunk_length // 2]\n",
    "    \n",
    "    t_box = cp.copy(Box_uv[..., -chunk_length:])\n",
    "    W = k_cube[2] / (cp.sqrt(k_cube[0]**2 + k_cube[1]**2) * (multiplicative_fact[-chunk_length // 2] / inputs.wedge_correction) + BM_smoothing)\n",
    "    w = cp.logical_or(W < -1., W > 1.)\n",
    "    Box_final[..., -chunk_length // 2 : ] = cp.real(cp.fft.ifftn(cp.fft.fft(t_box, axis = -1) * w))[..., -chunk_length // 2 :]\n",
    "    \n",
    "    for i in range(Box.shape[-1] - chunk_length + 1):\n",
    "        t_box = cp.copy(Box_uv[..., i:i+chunk_length])\n",
    "        W = k_cube[2] / (cp.sqrt(k_cube[0]**2 + k_cube[1]**2) * (multiplicative_fact[i + chunk_length // 2] / inputs.wedge_correction) + BM_smoothing)\n",
    "        w = cp.logical_or(W < -1., W > 1.)\n",
    "        if blackman == True:\n",
    "            t_box *= BM\n",
    "        Box_final[..., i + chunk_length // 2] = cp.real(cp.fft.ifftn(cp.fft.fft(t_box, axis = -1) * w))[..., chunk_length // 2]\n",
    "        \n",
    "    return Box_final.astype(np.float32)\n",
    "\n",
    "def BoxCar3D_smart(data, Nx = 4, Ny = 4, Nz = 4):\n",
    "    s = data.shape\n",
    "    if len(s) != 3:\n",
    "        raise AttributeError(\"data has to be 3D\")\n",
    "    return (cp.einsum('ijklmn->ikm', data[:s[0]//Nx*Nx, :s[1]//Ny*Ny, :s[2]//Nz*Nz].reshape((s[0]//Nx, Nx, s[1]//Ny, Ny, s[2]//Nz, Nz))) / (Nx*Ny*Nz)).astype(np.float32)\n",
    "\n",
    "\n",
    "# result = np.empty((inputs.max_WalkerID, 200 // 4, 200 // 4, 2107 // 4), dtype=np.float32)"
   ]
  },
  {
   "cell_type": "code",
   "execution_count": 10,
   "metadata": {},
   "outputs": [
    {
     "data": {
      "text/plain": [
       "array([2.812239 , 2.8134272, 2.8146162, ..., 8.091534 , 8.09678  ,\n",
       "       8.102031 ], dtype=float32)"
      ]
     },
     "execution_count": 10,
     "metadata": {},
     "output_type": "execute_result"
    }
   ],
   "source": [
    "multiplicative_fact.get()"
   ]
  },
  {
   "cell_type": "code",
   "execution_count": 11,
   "metadata": {},
   "outputs": [
    {
     "data": {
      "text/plain": [
       "5"
      ]
     },
     "execution_count": 11,
     "metadata": {},
     "output_type": "execute_result"
    }
   ],
   "source": [
    "inputs.wedge_correction"
   ]
  },
  {
   "cell_type": "code",
   "execution_count": 12,
   "metadata": {},
   "outputs": [],
   "source": [
    "def plotting(box):\n",
    "    if cp.get_array_module(box) == cp.get_array_module(cp.array(2)):\n",
    "        box = box.get()\n",
    "    plt.figure(figsize=(25, 3))\n",
    "    plt.imshow(box[0], vmin=-1e2, vmax=1e2)\n",
    "    plt.show()"
   ]
  },
  {
   "cell_type": "code",
   "execution_count": 28,
   "metadata": {},
   "outputs": [
    {
     "data": {
      "image/png": "[encoded data removed]",
      "text/plain": [
       "<Figure size 1800x1080 with 15 Axes>"
      ]
     },
     "metadata": {
      "needs_background": "light"
     },
     "output_type": "display_data"
    }
   ],
   "source": [
    "plt.figure(figsize=(25, 5 * 3))\n",
    "for i in range(5):\n",
    "    plt.subplot(3, 5, 1 + i)\n",
    "    W = k_cube[2] / (cp.sqrt(k_cube[0]**2 + k_cube[1]**2) * (multiplicative_fact[i*500] / inputs.wedge_correction) + BM_smoothing)\n",
    "    w = cp.fft.fftshift(cp.logical_or(W < -1., W > 1.)[0]).get()\n",
    "    plt.imshow(w.astype(\"float\").T, origin='lower')\n",
    "#     plt.xlabel(f\"$z = {t2c.cosmology.cdist_to_z(i * 500 * 1.5 + d0):.1f}, \\\\quad \\\\nu = {t2c.cosmology.z_to_nu(t2c.cosmology.cdist_to_z(i * 500 * 1.5 + d0)):.1f} \\\\, \\\\mathrm{{Mhz}}$\", fontsize=14)\n",
    "    plt.xticks([50, 100, 150], np.round(cp.fft.fftshift(k0)[50::50].get(), decimals=2))\n",
    "    plt.yticks([50, 100, 150], np.round(cp.fft.fftshift(k0)[50::50].get(), decimals=2))\n",
    "    if i == 2:\n",
    "        plt.title(\"$b = b_{BM} = %.3f \\, \\mathrm{Mpc^{-1}}$\" % (BM_smoothing), fontsize=16)\n",
    "for i in range(5):\n",
    "    plt.subplot(3, 5, 6 + i)\n",
    "    W = k_cube[2] / (cp.sqrt(k_cube[0]**2 + k_cube[1]**2) * (multiplicative_fact[i*500] / inputs.wedge_correction) + BM_smoothing / 5)\n",
    "    w = cp.fft.fftshift(cp.logical_or(W < -1., W > 1.)[0]).get()\n",
    "    plt.imshow(w.astype(\"float\").T, origin='lower')\n",
    "#     plt.xlabel(f\"$z = {t2c.cosmology.cdist_to_z(i * 500 * 1.5 + d0):.1f}, \\\\quad \\\\nu = {t2c.cosmology.z_to_nu(t2c.cosmology.cdist_to_z(i * 500 * 1.5 + d0)):.1f} \\\\, \\\\mathrm{{Mhz}}$\", fontsize=14)\n",
    "    plt.xticks([50, 100, 150], np.round(cp.fft.fftshift(k0)[50::50].get(), decimals=2))\n",
    "    plt.yticks([50, 100, 150], np.round(cp.fft.fftshift(k0)[50::50].get(), decimals=2))\n",
    "    if i == 2:\n",
    "        plt.title(\"$b = 1/5 \\, b_{BM}$\", fontsize=16)\n",
    "for i in range(5):\n",
    "    plt.subplot(3, 5, 11 + i)\n",
    "    W = k_cube[2] / (cp.sqrt(k_cube[0]**2 + k_cube[1]**2) * (multiplicative_fact[i*500] / inputs.wedge_correction))\n",
    "    w = cp.fft.fftshift(cp.logical_or(W < -1., W > 1.)[0]).get()\n",
    "    plt.imshow(w.astype(\"float\").T, origin='lower')\n",
    "    plt.xticks([50, 100, 150], np.round(cp.fft.fftshift(k0)[50::50].get(), decimals=2))\n",
    "    plt.yticks([50, 100, 150], np.round(cp.fft.fftshift(k0)[50::50].get(), decimals=2))\n",
    "    plt.xlabel(f\"$z = {t2c.cosmology.cdist_to_z(i * 500 * 1.5 + d0):.1f}, \\\\quad \\\\nu = {t2c.cosmology.z_to_nu(t2c.cosmology.cdist_to_z(i * 500 * 1.5 + d0)):.1f} \\\\, \\\\mathrm{{Mhz}}$\", fontsize=14)\n",
    "    if i == 2:\n",
    "        plt.title(\"$b = 0$\", fontsize=16)\n",
    "plt.suptitle(\"$1/5$ horizon cut\", fontsize = 25)\n",
    "plt.show()"
   ]
  },
  {
   "cell_type": "code",
   "execution_count": 26,
   "metadata": {},
   "outputs": [
    {
     "data": {
      "image/png": "[encoded data removed]",
      "text/plain": [
       "<Figure size 1800x1080 with 15 Axes>"
      ]
     },
     "metadata": {
      "needs_background": "light"
     },
     "output_type": "display_data"
    }
   ],
   "source": [
    "plt.figure(figsize=(25, 5 * 3))\n",
    "for i in range(5):\n",
    "    plt.subplot(3, 5, 1 + i)\n",
    "    W = k_cube[2] / (cp.sqrt(k_cube[0]**2 + k_cube[1]**2) * (multiplicative_fact[i*500]) + BM_smoothing)\n",
    "    w = cp.fft.fftshift(cp.logical_or(W < -1., W > 1.)[0]).get()\n",
    "    plt.imshow(w.astype(\"float\").T, origin='lower')\n",
    "#     plt.xlabel(f\"$z = {t2c.cosmology.cdist_to_z(i * 500 * 1.5 + d0):.1f}, \\\\quad \\\\nu = {t2c.cosmology.z_to_nu(t2c.cosmology.cdist_to_z(i * 500 * 1.5 + d0)):.1f} \\\\, \\\\mathrm{{Mhz}}$\", fontsize=14)\n",
    "    plt.xticks([50, 100, 150], np.round(cp.fft.fftshift(k0)[50::50].get(), decimals=2))\n",
    "    plt.yticks([50, 100, 150], np.round(cp.fft.fftshift(k0)[50::50].get(), decimals=2))\n",
    "    if i == 2:\n",
    "        plt.title(\"$b = b_{BM} = %.3f \\, \\mathrm{Mpc^{-1}}$\" % (BM_smoothing), fontsize=16)\n",
    "for i in range(5):\n",
    "    plt.subplot(3, 5, 6 + i)\n",
    "    W = k_cube[2] / (cp.sqrt(k_cube[0]**2 + k_cube[1]**2) * (multiplicative_fact[i*500]) + BM_smoothing / 5)\n",
    "    w = cp.fft.fftshift(cp.logical_or(W < -1., W > 1.)[0]).get()\n",
    "    plt.imshow(w.astype(\"float\").T, origin='lower')\n",
    "#     plt.xlabel(f\"$z = {t2c.cosmology.cdist_to_z(i * 500 * 1.5 + d0):.1f}, \\\\quad \\\\nu = {t2c.cosmology.z_to_nu(t2c.cosmology.cdist_to_z(i * 500 * 1.5 + d0)):.1f} \\\\, \\\\mathrm{{Mhz}}$\", fontsize=14)\n",
    "    plt.xticks([50, 100, 150], np.round(cp.fft.fftshift(k0)[50::50].get(), decimals=2))\n",
    "    plt.yticks([50, 100, 150], np.round(cp.fft.fftshift(k0)[50::50].get(), decimals=2))\n",
    "    if i == 2:\n",
    "        plt.title(\"$b = 1/5 \\, b_{BM}$\", fontsize=16)\n",
    "for i in range(5):\n",
    "    plt.subplot(3, 5, 11 + i)\n",
    "    W = k_cube[2] / (cp.sqrt(k_cube[0]**2 + k_cube[1]**2) * (multiplicative_fact[i*500]))\n",
    "    w = cp.fft.fftshift(cp.logical_or(W < -1., W > 1.)[0]).get()\n",
    "    plt.imshow(w.astype(\"float\").T, origin='lower')\n",
    "    plt.xticks([50, 100, 150], np.round(cp.fft.fftshift(k0)[50::50].get(), decimals=2))\n",
    "    plt.yticks([50, 100, 150], np.round(cp.fft.fftshift(k0)[50::50].get(), decimals=2))\n",
    "    plt.xlabel(f\"$z = {t2c.cosmology.cdist_to_z(i * 500 * 1.5 + d0):.1f}, \\\\quad \\\\nu = {t2c.cosmology.z_to_nu(t2c.cosmology.cdist_to_z(i * 500 * 1.5 + d0)):.1f} \\\\, \\\\mathrm{{Mhz}}$\", fontsize=14)\n",
    "    if i == 2:\n",
    "        plt.title(\"$b = 0$\", fontsize=16)\n",
    "plt.suptitle(\"horizon cut\", fontsize = 25)\n",
    "plt.show()"
   ]
  },
  {
   "cell_type": "code",
   "execution_count": null,
   "metadata": {},
   "outputs": [],
   "source": [
    "# a = np.zeros((200, 201))\n",
    "# a[10, 190] = 1\n",
    "\n",
    "for i in range(W.shape[0] // 250):\n",
    "    plt.imshow(cp.real(cp.fft.fftshift(cp.fft.fftn(Box[..., i*250:i*250+chunk_length])[0])).get(), origin='lower')\n",
    "    plt.imshow(cp.fft.fftshift(W[i*250, 0]).get().astype(float), origin = 'lower', alpha = 0.1)\n",
    "#     plt.imshow(a, origin = 'lower')\n",
    "#     plt.imshow(cp.real(cp.fft.fftshift(cp.fft.fftn(Box[..., i*250:i*250+inputs.chunk_length])))[0, ...].get(), origin= 'lower')\n",
    "#     plt.scatter([50],[150])\n",
    "    plt.colorbar()\n",
    "    plt.show()"
   ]
  },
  {
   "cell_type": "markdown",
   "metadata": {},
   "source": [
    "## $b = b_{BM}, \\, k_{\\|} = 1/5 \\, k_{\\|hc} $"
   ]
  },
  {
   "cell_type": "code",
   "execution_count": null,
   "metadata": {
    "jupyter": {
     "source_hidden": true
    }
   },
   "outputs": [],
   "source": [
    "for walker in range(20, 21):\n",
    "    Noise = noise(inputs.depth_mhz, inputs.seed_index, walker)\n",
    "    # Noise = cp.asarray(Noise)\n",
    "\n",
    "    Box = database.CombineBoxes(walker)\n",
    "    Box = Filters.RemoveLargeZ(Box, database, Z=Zmax)\n",
    "    Box[cp.isnan(Box)] = deltaTmin\n",
    "    # cp.nan_to_num(Box, copy=False, nan=deltaTmin)\n",
    "    cp.clip(Box, deltaTmin, deltaTmax, out=Box)\n",
    "    Box -= averages[walker]\n",
    "    Box = Box.astype(np.float32)\n",
    "    plotting(Box)\n",
    "#     result[walker, ...] = BoxCar3D_smart(manual_sliding(Box, Noise)).get()\n",
    "    res = manual_sliding(Box, Noise)\n",
    "    plotting(res)\n",
    "    plotting(BoxCar3D_smart(res).get())"
   ]
  },
  {
   "cell_type": "markdown",
   "metadata": {},
   "source": [
    "## $b = 1/5 \\, b_{BM}, \\, k_{\\|} = 1/5 \\, k_{\\|hc} $"
   ]
  },
  {
   "cell_type": "code",
   "execution_count": null,
   "metadata": {
    "jupyter": {
     "source_hidden": true
    }
   },
   "outputs": [],
   "source": [
    "for walker in range(20, 21):\n",
    "    Noise = noise(inputs.depth_mhz, inputs.seed_index, walker)\n",
    "    # Noise = cp.asarray(Noise)\n",
    "\n",
    "    Box = database.CombineBoxes(walker)\n",
    "    Box = Filters.RemoveLargeZ(Box, database, Z=Zmax)\n",
    "    Box[cp.isnan(Box)] = deltaTmin\n",
    "    # cp.nan_to_num(Box, copy=False, nan=deltaTmin)\n",
    "    cp.clip(Box, deltaTmin, deltaTmax, out=Box)\n",
    "    Box -= averages[walker]\n",
    "    Box = Box.astype(np.float32)\n",
    "    plotting(Box)\n",
    "    result[walker, ...] = BoxCar3D_smart(manual_sliding(Box, Noise)).get()\n",
    "    plotting(manual_sliding(Box, Noise))\n",
    "    plotting(result[walker, ...])"
   ]
  },
  {
   "cell_type": "markdown",
   "metadata": {},
   "source": [
    "## $b = 0, \\, k_{\\|} = 1/5 \\, k_{\\|hc} $"
   ]
  },
  {
   "cell_type": "code",
   "execution_count": null,
   "metadata": {
    "jupyter": {
     "source_hidden": true
    }
   },
   "outputs": [],
   "source": [
    "for walker in range(20, 21):\n",
    "    Noise = noise(inputs.depth_mhz, inputs.seed_index, walker)\n",
    "    # Noise = cp.asarray(Noise)\n",
    "\n",
    "    Box = database.CombineBoxes(walker)\n",
    "    Box = Filters.RemoveLargeZ(Box, database, Z=Zmax)\n",
    "    Box[cp.isnan(Box)] = deltaTmin\n",
    "    # cp.nan_to_num(Box, copy=False, nan=deltaTmin)\n",
    "    cp.clip(Box, deltaTmin, deltaTmax, out=Box)\n",
    "    Box -= averages[walker]\n",
    "    Box = Box.astype(np.float32)\n",
    "    plotting(Box)\n",
    "    result[walker, ...] = BoxCar3D_smart(manual_sliding(Box, Noise)).get()\n",
    "    plotting(manual_sliding(Box, Noise))\n",
    "    plotting(result[walker, ...])"
   ]
  },
  {
   "cell_type": "code",
   "execution_count": 6,
   "metadata": {},
   "outputs": [],
   "source": [
    "chunk_length = 201\n",
    "k = cp.fft.fftfreq(200, d=1.5)\n",
    "k_parallel = cp.fft.fftfreq(chunk_length, d=1.5)\n",
    "delta_k = k_parallel[1] - k_parallel[0]\n",
    "k_cube = cp.meshgrid(k, k, k_parallel)\n",
    "\n",
    "bm = cp.abs(cp.fft.fft(cp.blackman(chunk_length)))**2\n",
    "BM_smoothing = delta_k * (cp.where(bm / cp.amax(bm) <= 1e-10)[0][0] - 1)"
   ]
  },
  {
   "cell_type": "code",
   "execution_count": 7,
   "metadata": {},
   "outputs": [
    {
     "data": {
      "text/plain": [
       "array(0.04643449)"
      ]
     },
     "execution_count": 7,
     "metadata": {},
     "output_type": "execute_result"
    }
   ],
   "source": [
    "BM_smoothing"
   ]
  },
  {
   "cell_type": "code",
   "execution_count": 13,
   "metadata": {},
   "outputs": [
    {
     "name": "stdout",
     "output_type": "stream",
     "text": [
      "[0.05055183 0.05057709 0.05060237 ... 0.22322992 0.22346212 0.22369466]\n"
     ]
    }
   ],
   "source": [
    "print(1.2*21*1e-5/2 * (1 + redshifts_mean)*180/np.pi)"
   ]
  },
  {
   "cell_type": "code",
   "execution_count": null,
   "metadata": {},
   "outputs": [],
   "source": []
  }
 ],
 "metadata": {
  "kernelspec": {
   "display_name": "Python 3",
   "language": "python",
   "name": "python3"
  },
  "language_info": {
   "codemirror_mode": {
    "name": "ipython",
    "version": 3
   },
   "file_extension": ".py",
   "mimetype": "text/x-python",
   "name": "python",
   "nbconvert_exporter": "python",
   "pygments_lexer": "ipython3",
   "version": "3.6.10"
  }
 },
 "nbformat": 4,
 "nbformat_minor": 4
}
