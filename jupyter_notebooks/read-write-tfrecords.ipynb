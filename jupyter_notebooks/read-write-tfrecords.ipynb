{
 "cells": [
  {
   "cell_type": "code",
   "execution_count": 1,
   "metadata": {},
   "outputs": [],
   "source": [
    "import numpy as np\n",
    "import tensorflow as tf"
   ]
  },
  {
   "cell_type": "code",
   "execution_count": 2,
   "metadata": {},
   "outputs": [],
   "source": [
    "tf.enable_eager_execution()"
   ]
  },
  {
   "cell_type": "code",
   "execution_count": 3,
   "metadata": {},
   "outputs": [
    {
     "data": {
      "text/plain": [
       "'1.14.0'"
      ]
     },
     "execution_count": 3,
     "metadata": {},
     "output_type": "execute_result"
    }
   ],
   "source": [
    "tf.version.VERSION"
   ]
  },
  {
   "cell_type": "code",
   "execution_count": 3,
   "metadata": {},
   "outputs": [],
   "source": [
    "nsamples = 10\n",
    "data_x = np.random.random((nsamples, 25, 25, 526)).astype(np.float32)\n",
    "data_y = np.random.random((nsamples, 4)).astype(np.float32)"
   ]
  },
  {
   "cell_type": "code",
   "execution_count": 4,
   "metadata": {},
   "outputs": [],
   "source": [
    "def _int64_feature(value):\n",
    "    return tf.train.Feature(int64_list=tf.train.Int64List(value=[value]))\n",
    "\n",
    "def _bytes_feature(value):\n",
    "    return tf.train.Feature(bytes_list=tf.train.BytesList(value=[value]))"
   ]
  },
  {
   "cell_type": "code",
   "execution_count": 5,
   "metadata": {},
   "outputs": [],
   "source": [
    "tfrecords_filename = 'test.tfrecord'\n",
    "\n",
    "with tf.io.TFRecordWriter(tfrecords_filename) as writer:\n",
    "    for x, y in zip(data_x, data_y):        \n",
    "        # Create an example, which will be a row on the TFRecord file\n",
    "        # and on the dataset when reading it later.\n",
    "        example = tf.train.Example(features=tf.train.Features(\n",
    "            feature={\n",
    "                'Xx': _int64_feature(x.shape[0]),\n",
    "                'Xy': _int64_feature(x.shape[1]),\n",
    "                'Xz': _int64_feature(x.shape[2]),\n",
    "                'X': _bytes_feature(x.tostring()),\n",
    "                'Yx': _int64_feature(y.shape[0]),\n",
    "                'Y': _bytes_feature(y.tostring()),\n",
    "            }))\n",
    "\n",
    "        # Write the serialized example\n",
    "        writer.write(example.SerializeToString())"
   ]
  },
  {
   "cell_type": "code",
   "execution_count": 6,
   "metadata": {},
   "outputs": [],
   "source": [
    "def decode(serialized_example):\n",
    "    \"\"\"Parses an image and label from the given `serialized_example`.\"\"\"\n",
    "    example = tf.io.parse_single_example(\n",
    "        serialized_example,\n",
    "        features={\n",
    "            'Xx': tf.io.FixedLenFeature([], tf.int64),\n",
    "            'Xy': tf.io.FixedLenFeature([], tf.int64),\n",
    "            'Xz': tf.io.FixedLenFeature([], tf.int64),\n",
    "            'X': tf.io.FixedLenFeature([], tf.string),\n",
    "            'Yx': tf.io.FixedLenFeature([], tf.int64),\n",
    "            'Y': tf.io.FixedLenFeature([], tf.string),\n",
    "        })\n",
    "    xx = tf.cast(example['Xx'], tf.int64)\n",
    "    xy = tf.cast(example['Xy'], tf.int64)\n",
    "    xz = tf.cast(example['Xz'], tf.int64)\n",
    "    x = tf.io.decode_raw(example['X'], tf.float32)\n",
    "    x = tf.reshape(x, (xx, xy, xz))\n",
    "    yx = tf.cast(example['Yx'], tf.int64)\n",
    "    y = tf.io.decode_raw(example['Y'], tf.float32)\n",
    "    y = tf.reshape(y, (yx,))\n",
    "    return x, y"
   ]
  },
  {
   "cell_type": "code",
   "execution_count": 7,
   "metadata": {},
   "outputs": [],
   "source": [
    "# Define the input pipeline\n",
    "dataset = tf.data.TFRecordDataset(tfrecords_filename)\n",
    "dataset = dataset.map(decode)"
   ]
  },
  {
   "cell_type": "code",
   "execution_count": 8,
   "metadata": {},
   "outputs": [
    {
     "name": "stdout",
     "output_type": "stream",
     "text": [
      "0.0\n",
      "0.0\n",
      "0.0\n",
      "0.0\n",
      "0.0\n",
      "0.0\n",
      "0.0\n",
      "0.0\n",
      "0.0\n",
      "0.0\n",
      "0.0\n",
      "0.0\n",
      "0.0\n",
      "0.0\n",
      "0.0\n",
      "0.0\n",
      "0.0\n",
      "0.0\n",
      "0.0\n",
      "0.0\n"
     ]
    }
   ],
   "source": [
    "for i, (x, y) in enumerate(dataset):\n",
    "    print(tf.abs(x - data_x[i]).numpy().max())\n",
    "    print(tf.abs(y - data_y[i]).numpy().max())"
   ]
  },
  {
   "cell_type": "code",
   "execution_count": null,
   "metadata": {},
   "outputs": [],
   "source": []
  }
 ],
 "metadata": {
  "kernelspec": {
   "display_name": "Python 3",
   "language": "python",
   "name": "python3"
  },
  "language_info": {
   "codemirror_mode": {
    "name": "ipython",
    "version": 3
   },
   "file_extension": ".py",
   "mimetype": "text/x-python",
   "name": "python",
   "nbconvert_exporter": "python",
   "pygments_lexer": "ipython3",
   "version": "3.6.10"
  }
 },
 "nbformat": 4,
 "nbformat_minor": 4
}
