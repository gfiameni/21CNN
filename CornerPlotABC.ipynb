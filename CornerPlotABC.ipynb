{
 "cells": [
  {
   "cell_type": "code",
   "execution_count": 1,
   "metadata": {
    "collapsed": true,
    "jupyter": {
     "outputs_hidden": true
    }
   },
   "outputs": [
    {
     "name": "stderr",
     "output_type": "stream",
     "text": [
      "Using TensorFlow backend.\n",
      "/media/yqin/81614149-2ed8-4c76-82e1-c46763d086fa/pregi/anaconda3/envs/21CNN_GPU_NEW/lib/python3.7/site-packages/tensorflow/python/framework/dtypes.py:516: FutureWarning: Passing (type, 1) or '1type' as a synonym of type is deprecated; in a future version of numpy, it will be understood as (type, (1,)) / '(1,)type'.\n",
      "  _np_qint8 = np.dtype([(\"qint8\", np.int8, 1)])\n",
      "/media/yqin/81614149-2ed8-4c76-82e1-c46763d086fa/pregi/anaconda3/envs/21CNN_GPU_NEW/lib/python3.7/site-packages/tensorflow/python/framework/dtypes.py:517: FutureWarning: Passing (type, 1) or '1type' as a synonym of type is deprecated; in a future version of numpy, it will be understood as (type, (1,)) / '(1,)type'.\n",
      "  _np_quint8 = np.dtype([(\"quint8\", np.uint8, 1)])\n",
      "/media/yqin/81614149-2ed8-4c76-82e1-c46763d086fa/pregi/anaconda3/envs/21CNN_GPU_NEW/lib/python3.7/site-packages/tensorflow/python/framework/dtypes.py:518: FutureWarning: Passing (type, 1) or '1type' as a synonym of type is deprecated; in a future version of numpy, it will be understood as (type, (1,)) / '(1,)type'.\n",
      "  _np_qint16 = np.dtype([(\"qint16\", np.int16, 1)])\n",
      "/media/yqin/81614149-2ed8-4c76-82e1-c46763d086fa/pregi/anaconda3/envs/21CNN_GPU_NEW/lib/python3.7/site-packages/tensorflow/python/framework/dtypes.py:519: FutureWarning: Passing (type, 1) or '1type' as a synonym of type is deprecated; in a future version of numpy, it will be understood as (type, (1,)) / '(1,)type'.\n",
      "  _np_quint16 = np.dtype([(\"quint16\", np.uint16, 1)])\n",
      "/media/yqin/81614149-2ed8-4c76-82e1-c46763d086fa/pregi/anaconda3/envs/21CNN_GPU_NEW/lib/python3.7/site-packages/tensorflow/python/framework/dtypes.py:520: FutureWarning: Passing (type, 1) or '1type' as a synonym of type is deprecated; in a future version of numpy, it will be understood as (type, (1,)) / '(1,)type'.\n",
      "  _np_qint32 = np.dtype([(\"qint32\", np.int32, 1)])\n",
      "/media/yqin/81614149-2ed8-4c76-82e1-c46763d086fa/pregi/anaconda3/envs/21CNN_GPU_NEW/lib/python3.7/site-packages/tensorflow/python/framework/dtypes.py:525: FutureWarning: Passing (type, 1) or '1type' as a synonym of type is deprecated; in a future version of numpy, it will be understood as (type, (1,)) / '(1,)type'.\n",
      "  np_resource = np.dtype([(\"resource\", np.ubyte, 1)])\n",
      "/media/yqin/81614149-2ed8-4c76-82e1-c46763d086fa/pregi/anaconda3/envs/21CNN_GPU_NEW/lib/python3.7/site-packages/tensorboard/compat/tensorflow_stub/dtypes.py:541: FutureWarning: Passing (type, 1) or '1type' as a synonym of type is deprecated; in a future version of numpy, it will be understood as (type, (1,)) / '(1,)type'.\n",
      "  _np_qint8 = np.dtype([(\"qint8\", np.int8, 1)])\n",
      "/media/yqin/81614149-2ed8-4c76-82e1-c46763d086fa/pregi/anaconda3/envs/21CNN_GPU_NEW/lib/python3.7/site-packages/tensorboard/compat/tensorflow_stub/dtypes.py:542: FutureWarning: Passing (type, 1) or '1type' as a synonym of type is deprecated; in a future version of numpy, it will be understood as (type, (1,)) / '(1,)type'.\n",
      "  _np_quint8 = np.dtype([(\"quint8\", np.uint8, 1)])\n",
      "/media/yqin/81614149-2ed8-4c76-82e1-c46763d086fa/pregi/anaconda3/envs/21CNN_GPU_NEW/lib/python3.7/site-packages/tensorboard/compat/tensorflow_stub/dtypes.py:543: FutureWarning: Passing (type, 1) or '1type' as a synonym of type is deprecated; in a future version of numpy, it will be understood as (type, (1,)) / '(1,)type'.\n",
      "  _np_qint16 = np.dtype([(\"qint16\", np.int16, 1)])\n",
      "/media/yqin/81614149-2ed8-4c76-82e1-c46763d086fa/pregi/anaconda3/envs/21CNN_GPU_NEW/lib/python3.7/site-packages/tensorboard/compat/tensorflow_stub/dtypes.py:544: FutureWarning: Passing (type, 1) or '1type' as a synonym of type is deprecated; in a future version of numpy, it will be understood as (type, (1,)) / '(1,)type'.\n",
      "  _np_quint16 = np.dtype([(\"quint16\", np.uint16, 1)])\n",
      "/media/yqin/81614149-2ed8-4c76-82e1-c46763d086fa/pregi/anaconda3/envs/21CNN_GPU_NEW/lib/python3.7/site-packages/tensorboard/compat/tensorflow_stub/dtypes.py:545: FutureWarning: Passing (type, 1) or '1type' as a synonym of type is deprecated; in a future version of numpy, it will be understood as (type, (1,)) / '(1,)type'.\n",
      "  _np_qint32 = np.dtype([(\"qint32\", np.int32, 1)])\n",
      "/media/yqin/81614149-2ed8-4c76-82e1-c46763d086fa/pregi/anaconda3/envs/21CNN_GPU_NEW/lib/python3.7/site-packages/tensorboard/compat/tensorflow_stub/dtypes.py:550: FutureWarning: Passing (type, 1) or '1type' as a synonym of type is deprecated; in a future version of numpy, it will be understood as (type, (1,)) / '(1,)type'.\n",
      "  np_resource = np.dtype([(\"resource\", np.ubyte, 1)])\n"
     ]
    }
   ],
   "source": [
    "import keras\n",
    "import numpy as np\n",
    "import os\n",
    "import corner\n",
    "import matplotlib.pyplot as plt"
   ]
  },
  {
   "cell_type": "code",
   "execution_count": 10,
   "metadata": {},
   "outputs": [],
   "source": [
    "#setup of GPU\n",
    "\n",
    "############################\n",
    "### KERAS BACKEND and LIMIT GPU\n",
    "############################\n",
    "os.environ['KERAS_BACKEND'] = 'tensorflow'\n",
    "import tensorflow as tf\n",
    "\n",
    "#setting up GPU\n",
    "config = tf.ConfigProto()\n",
    "config.gpu_options.per_process_gpu_memory_fraction = 1. #setting the percentage of GPU usage\n",
    "config.gpu_options.visible_device_list = \"0\" #for picking only some devices\n",
    "config.gpu_options.allow_growth = True\n",
    "\n",
    "#passing tf session to keras!\n",
    "from keras.backend.tensorflow_backend import set_session\n",
    "set_session(tf.Session(config=config)) "
   ]
  },
  {
   "cell_type": "code",
   "execution_count": 11,
   "metadata": {
    "collapsed": true,
    "jupyter": {
     "outputs_hidden": true
    }
   },
   "outputs": [
    {
     "name": "stdout",
     "output_type": "stream",
     "text": [
      "_________________________________________________________________\n",
      "Layer (type)                 Output Shape              Param #   \n",
      "=================================================================\n",
      "PreConv-1 (Conv2D)           (None, 46, 1049, 16)      416       \n",
      "_________________________________________________________________\n",
      "PreConv-2 (Conv2D)           (None, 42, 1045, 32)      12832     \n",
      "_________________________________________________________________\n",
      "PrePool-2 (MaxPooling2D)     (None, 21, 522, 32)       0         \n",
      "_________________________________________________________________\n",
      "Conv-1 (Conv2D)              (None, 17, 518, 32)       25632     \n",
      "_________________________________________________________________\n",
      "Conv-2 (Conv2D)              (None, 13, 514, 64)       51264     \n",
      "_________________________________________________________________\n",
      "Pool-2 (MaxPooling2D)        (None, 6, 257, 64)        0         \n",
      "_________________________________________________________________\n",
      "Conv-3 (Conv2D)              (None, 1, 252, 64)        147520    \n",
      "_________________________________________________________________\n",
      "Flat (Flatten)               (None, 16128)             0         \n",
      "_________________________________________________________________\n",
      "dropout_1 (Dropout)          (None, 16128)             0         \n",
      "_________________________________________________________________\n",
      "Dense-1 (Dense)              (None, 256)               4129024   \n",
      "_________________________________________________________________\n",
      "batch_normalization_1 (Batch (None, 256)               1024      \n",
      "_________________________________________________________________\n",
      "activation_1 (Activation)    (None, 256)               0         \n",
      "_________________________________________________________________\n",
      "Dense-2 (Dense)              (None, 256)               65792     \n",
      "_________________________________________________________________\n",
      "Dense-3 (Dense)              (None, 128)               32896     \n",
      "_________________________________________________________________\n",
      "Dense-4 (Dense)              (None, 64)                8256      \n",
      "_________________________________________________________________\n",
      "Dense-5 (Dense)              (None, 32)                2080      \n",
      "_________________________________________________________________\n",
      "Dense-6 (Dense)              (None, 16)                528       \n",
      "_________________________________________________________________\n",
      "Dense-7 (Dense)              (None, 8)                 136       \n",
      "_________________________________________________________________\n",
      "Out (Dense)                  (None, 4)                 36        \n",
      "=================================================================\n",
      "Total params: 4,477,436\n",
      "Trainable params: 4,476,924\n",
      "Non-trainable params: 512\n",
      "_________________________________________________________________\n"
     ]
    }
   ],
   "source": [
    "#loading model\n",
    "\n",
    "model_loc = \"CNN/data_save/NGillet/tophat22_Z30_meanZ_deeper_good/\"\n",
    "model_prename = \"tophat22_Z30_meanZ_deeper2D_Filter55_1batchNorm\"\n",
    "\n",
    "# load json and create model\n",
    "with open(f\"{model_loc}{model_prename}.json\", 'r') as f:\n",
    "    model = keras.models.model_from_json(f.read())\n",
    "# load weights into new model\n",
    "model.load_weights(f\"{model_loc}{model_prename}_weights.h5\")\n",
    "model.summary()"
   ]
  },
  {
   "cell_type": "code",
   "execution_count": 12,
   "metadata": {},
   "outputs": [
    {
     "name": "stdout",
     "output_type": "stream",
     "text": [
      "tophat22_Z30_meanZ_database5_float32.npy\n"
     ]
    }
   ],
   "source": [
    "DataFilepath = \"../data/\"\n",
    "DataXname = \"database5_float32.npy\"\n",
    "RemovedMean = True\n",
    "if RemovedMean:\n",
    "    rm = \"meanZ_\"\n",
    "else:\n",
    "    rm = \"\"\n",
    "pTrain = 0.8\n",
    "pDev = 0.1\n",
    "pTest = 0.1\n",
    "tophat = [2, 2]\n",
    "Zmax = 30\n",
    "DataType = f\"tophat{tophat[0]}{tophat[1]}_Z{Zmax}_{rm}\" + DataXname\n",
    "print(DataType)\n",
    "TDTfile = \"{}/{}_{:.1f}_\" + DataType\n",
    "# trainX = np.load(DataFilepath + TDTfile.format(\"train\", \"X\", pTrain))\n",
    "# trainY = np.load(DataFilepath + TDTfile.format(\"train\", \"Y\", pTrain))\n",
    "testX  = np.load(DataFilepath + TDTfile.format(\"test\", \"X\", pTest))\n",
    "testY  = np.load(DataFilepath + TDTfile.format(\"test\", \"Y\", pTest))\n",
    "# devX   = np.load(DataFilepath + TDTfile.format(\"dev\", \"X\", pDev))\n",
    "# devY   = np.load(DataFilepath + TDTfile.format(\"dev\", \"Y\", pDev))"
   ]
  },
  {
   "cell_type": "code",
   "execution_count": 19,
   "metadata": {},
   "outputs": [
    {
     "data": {
      "text/plain": [
       "(20000, 4)"
      ]
     },
     "execution_count": 19,
     "metadata": {},
     "output_type": "execute_result"
    }
   ],
   "source": [
    "testY.shape"
   ]
  },
  {
   "cell_type": "code",
   "execution_count": 20,
   "metadata": {},
   "outputs": [],
   "source": [
    "X = testX[..., np.newaxis]\n",
    "Y = testY[..., np.newaxis]"
   ]
  },
  {
   "cell_type": "code",
   "execution_count": 21,
   "metadata": {},
   "outputs": [],
   "source": [
    "predY = model.predict(X)"
   ]
  },
  {
   "cell_type": "code",
   "execution_count": 35,
   "metadata": {},
   "outputs": [],
   "source": [
    "#fiducial parameters [\"ZETA\",\"TVIR_MIN\",\"L_X\",\"NU_X_THRESH\"] Brad used in MCMC\n",
    "FaintFiducialY = [ 30  , 4.70, 40, 500 ]\n",
    "BrightFiducialY = [ 200 , 5.48, 40, 500 ]\n",
    "\n",
    "#E0 gledam na 500 vjerojatno, 0.5 keV"
   ]
  },
  {
   "cell_type": "code",
   "execution_count": 36,
   "metadata": {},
   "outputs": [],
   "source": [
    "Parameters = np.load(\"../data/databaseParams_float32.npy\")"
   ]
  },
  {
   "cell_type": "code",
   "execution_count": 65,
   "metadata": {},
   "outputs": [
    {
     "name": "stdout",
     "output_type": "stream",
     "text": [
      "[ 100.130264  100.242836  100.306854 ... 1499.2742   1499.2861\n",
      " 1499.3711  ]\n",
      "9998\n"
     ]
    }
   ],
   "source": [
    "print(np.sort(list(set(Parameters[:, 3]))))\n",
    "print(len(list(set(Parameters[:, 3]))))"
   ]
  },
  {
   "cell_type": "code",
   "execution_count": 48,
   "metadata": {},
   "outputs": [
    {
     "name": "stdout",
     "output_type": "stream",
     "text": [
      "Bright Fiducial Index = 1770, 3.740047199493469\n",
      "Faint Fiducial Index = 1789, 3.402656478041788\n",
      "Bright Fiducial Index = 3829, 3.762859535785915\n",
      "Bright Fiducial Index = 5932, 4.134607599013513\n"
     ]
    }
   ],
   "source": [
    "for i in range(10000):\n",
    "    FaintDif = FaintFiducialY - Parameters[i]\n",
    "    BrightDif = BrightFiducialY - Parameters[i]\n",
    "    if np.sqrt(FaintDif @ FaintDif) < 5:\n",
    "        print(f\"Faint Fiducial Index = {i}, {np.sqrt(FaintDif @ FaintDif)}\")\n",
    "    if np.sqrt(BrightDif @ BrightDif) < 5:\n",
    "        print(f\"Bright Fiducial Index = {i}, {np.sqrt(BrightDif @ BrightDif)}\")"
   ]
  },
  {
   "cell_type": "code",
   "execution_count": 50,
   "metadata": {},
   "outputs": [
    {
     "name": "stdout",
     "output_type": "stream",
     "text": [
      "[30, 4.7, 40, 500] [ 30.943579   5.372314  38.932    496.9842  ]\n",
      "[200, 5.48, 40, 500] [196.35991    4.968501  40.01446  499.31018 ]\n",
      "[200, 5.48, 40, 500] [202.77774    4.343854  39.76903  502.25812 ]\n"
     ]
    }
   ],
   "source": [
    "print(FaintFiducialY, Parameters[1789])\n",
    "print(BrightFiducialY, Parameters[1770])\n",
    "print(BrightFiducialY, Parameters[3829])"
   ]
  },
  {
   "cell_type": "code",
   "execution_count": null,
   "metadata": {},
   "outputs": [],
   "source": [
    "if "
   ]
  },
  {
   "cell_type": "code",
   "execution_count": 31,
   "metadata": {},
   "outputs": [
    {
     "name": "stdout",
     "output_type": "stream",
     "text": [
      "{\n",
      "    \"parameters\": [\n",
      "        \"ZETA\",\n",
      "        \"TVIR_MIN\",\n",
      "        \"L_X\",\n",
      "        \"NU_X_THRESH\"\n",
      "    ],\n",
      "    \"min\": [\n",
      "        10.023063659667969,\n",
      "        4.000161170959473,\n",
      "        38.00041961669922,\n",
      "        100.13026428222656\n",
      "    ],\n",
      "    \"max\": [\n",
      "        249.9544677734375,\n",
      "        5.998933792114258,\n",
      "        41.99989700317383,\n",
      "        1499.37109375\n",
      "    ]\n",
      "}\n"
     ]
    }
   ],
   "source": [
    "import json\n",
    "with open(\"../data/databaseParams_min_max.txt\", \"r\") as f:\n",
    "    ParametersSummary = json.load(f)\n",
    "    print(json.dumps(ParametersSummary, indent=4))"
   ]
  },
  {
   "cell_type": "code",
   "execution_count": null,
   "metadata": {},
   "outputs": [],
   "source": []
  }
 ],
 "metadata": {
  "kernelspec": {
   "display_name": "Python 3",
   "language": "python",
   "name": "python3"
  },
  "language_info": {
   "codemirror_mode": {
    "name": "ipython",
    "version": 3
   },
   "file_extension": ".py",
   "mimetype": "text/x-python",
   "name": "python",
   "nbconvert_exporter": "python",
   "pygments_lexer": "ipython3",
   "version": "3.7.5"
  }
 },
 "nbformat": 4,
 "nbformat_minor": 4
}
