{
 "cells": [
  {
   "cell_type": "code",
   "execution_count": 1,
   "metadata": {},
   "outputs": [
    {
     "name": "stdout",
     "output_type": "stream",
     "text": [
      "loading lightcone\n",
      "removing large Z\n",
      "removing NaNs\n",
      "clipping large values\n",
      "(200, 200, 2107)\n"
     ]
    }
   ],
   "source": [
    "import numpy as np\n",
    "import sys\n",
    "import os\n",
    "from src.py21cnn.database import DatabaseUtils\n",
    "from src.py21cnn.formatting import Filters\n",
    "import json\n",
    "\n",
    "#define path to database, send to program as parameters if different from default\n",
    "BoxesPath = \"../DatabaseTest\"\n",
    "ParametersPath = \"../DatabaseTest\"\n",
    "Redshifts = ['006.00060', '006.75589', '007.63960', '008.68274', '009.92624', '011.42503', \\\n",
    "            '013.25424', '015.51874', '018.36856', '022.02434', '026.82138', '033.28927', '034.50984']\n",
    "Parameters = [\"ZETA\", \"TVIR_MIN\", \"L_X\", \"NU_X_THRESH\"]\n",
    "walkerID = 9999\n",
    "database = DatabaseUtils.Database(Parameters, Redshifts, BoxesPath, ParametersPath)\n",
    "deltaTmin = -250\n",
    "deltaTmax = 50\n",
    "Zmax = 30\n",
    "print(\"loading lightcone\")\n",
    "Box = database.CombineBoxes(walkerID)\n",
    "print(\"removing large Z\")\n",
    "Box = Filters.RemoveLargeZ(Box, database, Z=Zmax)\n",
    "print(\"removing NaNs\")\n",
    "np.nan_to_num(Box, copy=False, nan=deltaTmin, posinf=deltaTmax, neginf=deltaTmin)\n",
    "print(\"clipping large values\")\n",
    "np.clip(Box, deltaTmin, deltaTmax, out=Box)\n",
    "print(Box.shape)"
   ]
  },
  {
   "cell_type": "code",
   "execution_count": 2,
   "metadata": {},
   "outputs": [],
   "source": [
    "from astropy.cosmology import FlatLambdaCDM\n",
    "cosmo = FlatLambdaCDM(H0 = 67.8, Om0 = 0.3078, Ob0 = 0.048425)"
   ]
  },
  {
   "cell_type": "code",
   "execution_count": 3,
   "metadata": {},
   "outputs": [
    {
     "data": {
      "text/latex": [
       "$[0,~300.00556,~600.00532,~899.99935,~1199.9854,~1499.9611,~1799.9286,~2099.884,~2399.8268,~2699.7535,~2999.6622,~3299.5487,~3346.7399] \\; \\mathrm{Mpc}$"
      ],
      "text/plain": [
       "<Quantity [   0.        ,  300.00555866,  600.00531501,  899.99935489,\n",
       "           1199.98542018, 1499.96112433, 1799.92858413, 2099.8840191 ,\n",
       "           2399.82676135, 2699.7534683 , 2999.66217572, 3299.54873121,\n",
       "           3346.73993683] Mpc>"
      ]
     },
     "execution_count": 3,
     "metadata": {},
     "output_type": "execute_result"
    }
   ],
   "source": [
    "cosmo.comoving_distance(np.array([float(i) for i in Redshifts])) - cosmo.comoving_distance(float(Redshifts[0]))"
   ]
  },
  {
   "cell_type": "code",
   "execution_count": 4,
   "metadata": {},
   "outputs": [],
   "source": [
    "import tools21cm as t2c"
   ]
  },
  {
   "cell_type": "code",
   "execution_count": 5,
   "metadata": {},
   "outputs": [],
   "source": [
    "t2c.const.set_hubble_h(0.678)\n",
    "t2c.const.set_omega_matter(0.308)\n",
    "t2c.const.set_omega_baryon(0.048425)\n",
    "t2c.const.set_omega_lambda(0.692)\n",
    "t2c.const.set_ns(0.968)\n",
    "t2c.const.set_sigma_8(0.815)"
   ]
  },
  {
   "cell_type": "code",
   "execution_count": 6,
   "metadata": {},
   "outputs": [],
   "source": [
    "d0 = t2c.cosmology.z_to_cdist(float(Redshifts[0]))"
   ]
  },
  {
   "cell_type": "code",
   "execution_count": 10,
   "metadata": {},
   "outputs": [
    {
     "name": "stdout",
     "output_type": "stream",
     "text": [
      "[ 8444.84444096  8446.34444096  8447.84444096 ... 11602.34444096\n",
      " 11603.84444096 11605.34444096]\n",
      "[ 6.00059998  6.00409747  6.00759757 ... 29.93747605 29.96966299\n",
      " 30.00189696]\n",
      "(2108,)\n",
      "(2107,)\n"
     ]
    }
   ],
   "source": [
    "cdist = np.array(range(Box.shape[-1] + 1))*1.5 + d0 #adding one more redshit to the end\n",
    "print(cdist)\n",
    "redshifts = t2c.cosmology.cdist_to_z(cdist)\n",
    "redshifts_mean = (redshifts[:-1] + redshifts[1:]) / 2\n",
    "print(redshifts)\n",
    "print(redshifts.shape)\n",
    "print(redshifts_mean.shape)"
   ]
  },
  {
   "cell_type": "code",
   "execution_count": 12,
   "metadata": {
    "collapsed": true,
    "jupyter": {
     "outputs_hidden": true
    }
   },
   "outputs": [
    {
     "name": "stdout",
     "output_type": "stream",
     "text": [
      "Making uv map from daily observations.\n",
      "Completed: 100.0 %\n",
      "The lightcone has been constructed upto 0.0 perc\n",
      "Making uv map from daily observations.\n",
      "Completed: 100.0 %\n",
      "The lightcone has been constructed upto 0.1 perc\n",
      "Making uv map from daily observations.\n",
      "Completed: 100.0 %\n",
      "The lightcone has been constructed upto 0.1 perc\n",
      "Making uv map from daily observations.\n",
      "Completed: 100.0 %\n",
      "The lightcone has been constructed upto 0.2 perc\n",
      "Making uv map from daily observations.\n",
      "Completed: 100.0 %\n",
      "The lightcone has been constructed upto 0.2 perc\n",
      "Making uv map from daily observations.\n",
      "Completed: 90.0 %"
     ]
    },
    {
     "ename": "KeyboardInterrupt",
     "evalue": "",
     "output_type": "error",
     "traceback": [
      "\u001b[0;31m---------------------------------------------------------------------------\u001b[0m",
      "\u001b[0;31mKeyboardInterrupt\u001b[0m                         Traceback (most recent call last)",
      "\u001b[0;32m<ipython-input-12-2ed94a91fc08>\u001b[0m in \u001b[0;36m<module>\u001b[0;34m\u001b[0m\n\u001b[0;32m----> 1\u001b[0;31m \u001b[0muv\u001b[0m\u001b[0;34m,\u001b[0m \u001b[0mN_ant\u001b[0m \u001b[0;34m=\u001b[0m \u001b[0mt2c\u001b[0m\u001b[0;34m.\u001b[0m\u001b[0mnoise_model\u001b[0m\u001b[0;34m.\u001b[0m\u001b[0mmake_uv_map_lightcone\u001b[0m\u001b[0;34m(\u001b[0m\u001b[0mncells\u001b[0m\u001b[0;34m=\u001b[0m\u001b[0;36m200\u001b[0m\u001b[0;34m,\u001b[0m \u001b[0mzs\u001b[0m\u001b[0;34m=\u001b[0m\u001b[0mredshifts_mean\u001b[0m\u001b[0;34m,\u001b[0m \u001b[0mboxsize\u001b[0m\u001b[0;34m=\u001b[0m\u001b[0;36m300\u001b[0m\u001b[0;34m)\u001b[0m\u001b[0;34m\u001b[0m\u001b[0;34m\u001b[0m\u001b[0m\n\u001b[0m",
      "\u001b[0;32m/media/yqin/81614149-2ed8-4c76-82e1-c46763d086fa/pregi/anaconda3/envs/21cm/lib/python3.8/site-packages/tools21cm/noise_model.py\u001b[0m in \u001b[0;36mmake_uv_map_lightcone\u001b[0;34m(ncells, zs, filename, total_int_time, int_time, boxsize, declination, verbose)\u001b[0m\n\u001b[1;32m    201\u001b[0m         \u001b[0;32mfor\u001b[0m \u001b[0mi\u001b[0m \u001b[0;32min\u001b[0m \u001b[0mrange\u001b[0m\u001b[0;34m(\u001b[0m\u001b[0mzs\u001b[0m\u001b[0;34m.\u001b[0m\u001b[0mshape\u001b[0m\u001b[0;34m[\u001b[0m\u001b[0;36m0\u001b[0m\u001b[0;34m]\u001b[0m\u001b[0;34m)\u001b[0m\u001b[0;34m:\u001b[0m\u001b[0;34m\u001b[0m\u001b[0;34m\u001b[0m\u001b[0m\n\u001b[1;32m    202\u001b[0m                 \u001b[0mz\u001b[0m \u001b[0;34m=\u001b[0m \u001b[0mzs\u001b[0m\u001b[0;34m[\u001b[0m\u001b[0mi\u001b[0m\u001b[0;34m]\u001b[0m\u001b[0;34m\u001b[0m\u001b[0;34m\u001b[0m\u001b[0m\n\u001b[0;32m--> 203\u001b[0;31m                 \u001b[0muv_map\u001b[0m\u001b[0;34m,\u001b[0m \u001b[0mN_ant\u001b[0m \u001b[0;34m=\u001b[0m \u001b[0mget_uv_map\u001b[0m\u001b[0;34m(\u001b[0m\u001b[0mncells\u001b[0m\u001b[0;34m,\u001b[0m \u001b[0mz\u001b[0m\u001b[0;34m,\u001b[0m \u001b[0mfilename\u001b[0m\u001b[0;34m=\u001b[0m\u001b[0mfilename\u001b[0m\u001b[0;34m,\u001b[0m \u001b[0mtotal_int_time\u001b[0m\u001b[0;34m=\u001b[0m\u001b[0mtotal_int_time\u001b[0m\u001b[0;34m,\u001b[0m \u001b[0mint_time\u001b[0m\u001b[0;34m=\u001b[0m\u001b[0mint_time\u001b[0m\u001b[0;34m,\u001b[0m \u001b[0mboxsize\u001b[0m\u001b[0;34m=\u001b[0m\u001b[0mboxsize\u001b[0m\u001b[0;34m,\u001b[0m \u001b[0mdeclination\u001b[0m\u001b[0;34m=\u001b[0m\u001b[0mdeclination\u001b[0m\u001b[0;34m,\u001b[0m \u001b[0mverbose\u001b[0m\u001b[0;34m=\u001b[0m\u001b[0mverbose\u001b[0m\u001b[0;34m)\u001b[0m\u001b[0;34m\u001b[0m\u001b[0;34m\u001b[0m\u001b[0m\n\u001b[0m\u001b[1;32m    204\u001b[0m                 \u001b[0muv_lc\u001b[0m\u001b[0;34m[\u001b[0m\u001b[0;34m:\u001b[0m\u001b[0;34m,\u001b[0m\u001b[0;34m:\u001b[0m\u001b[0;34m,\u001b[0m\u001b[0mi\u001b[0m\u001b[0;34m]\u001b[0m \u001b[0;34m=\u001b[0m \u001b[0muv_map\u001b[0m\u001b[0;34m\u001b[0m\u001b[0;34m\u001b[0m\u001b[0m\n\u001b[1;32m    205\u001b[0m                 \u001b[0mprint\u001b[0m\u001b[0;34m(\u001b[0m\u001b[0;34mf\"\\nThe lightcone has been constructed upto {i*percc:.1f} perc\"\u001b[0m\u001b[0;34m)\u001b[0m\u001b[0;34m\u001b[0m\u001b[0;34m\u001b[0m\u001b[0m\n",
      "\u001b[0;32m/media/yqin/81614149-2ed8-4c76-82e1-c46763d086fa/pregi/anaconda3/envs/21cm/lib/python3.8/site-packages/tools21cm/noise_model.py\u001b[0m in \u001b[0;36mget_uv_map\u001b[0;34m(ncells, z, filename, total_int_time, int_time, boxsize, declination, verbose)\u001b[0m\n\u001b[1;32m    163\u001b[0m \t\"\"\"\n\u001b[1;32m    164\u001b[0m         \u001b[0;32mif\u001b[0m \u001b[0;32mnot\u001b[0m \u001b[0mfilename\u001b[0m\u001b[0;34m:\u001b[0m \u001b[0mN_ant\u001b[0m \u001b[0;34m=\u001b[0m \u001b[0mSKA1_LowConfig_Sept2016\u001b[0m\u001b[0;34m(\u001b[0m\u001b[0;34m)\u001b[0m\u001b[0;34m.\u001b[0m\u001b[0mshape\u001b[0m\u001b[0;34m[\u001b[0m\u001b[0;36m0\u001b[0m\u001b[0;34m]\u001b[0m\u001b[0;34m\u001b[0m\u001b[0;34m\u001b[0m\u001b[0m\n\u001b[0;32m--> 165\u001b[0;31m         \u001b[0muv_map\u001b[0m\u001b[0;34m,\u001b[0m \u001b[0mN_ant\u001b[0m  \u001b[0;34m=\u001b[0m \u001b[0mget_uv_daily_observation\u001b[0m\u001b[0;34m(\u001b[0m\u001b[0mncells\u001b[0m\u001b[0;34m,\u001b[0m \u001b[0mz\u001b[0m\u001b[0;34m,\u001b[0m \u001b[0mfilename\u001b[0m\u001b[0;34m,\u001b[0m \u001b[0mtotal_int_time\u001b[0m\u001b[0;34m=\u001b[0m\u001b[0mtotal_int_time\u001b[0m\u001b[0;34m,\u001b[0m \u001b[0mint_time\u001b[0m\u001b[0;34m=\u001b[0m\u001b[0mint_time\u001b[0m\u001b[0;34m,\u001b[0m \u001b[0mboxsize\u001b[0m\u001b[0;34m=\u001b[0m\u001b[0mboxsize\u001b[0m\u001b[0;34m,\u001b[0m \u001b[0mdeclination\u001b[0m\u001b[0;34m=\u001b[0m\u001b[0mdeclination\u001b[0m\u001b[0;34m,\u001b[0m \u001b[0mverbose\u001b[0m\u001b[0;34m=\u001b[0m\u001b[0mverbose\u001b[0m\u001b[0;34m)\u001b[0m\u001b[0;34m\u001b[0m\u001b[0;34m\u001b[0m\u001b[0m\n\u001b[0m\u001b[1;32m    166\u001b[0m         \u001b[0;32mreturn\u001b[0m \u001b[0muv_map\u001b[0m\u001b[0;34m,\u001b[0m \u001b[0mN_ant\u001b[0m\u001b[0;34m\u001b[0m\u001b[0;34m\u001b[0m\u001b[0m\n\u001b[1;32m    167\u001b[0m \u001b[0;34m\u001b[0m\u001b[0m\n",
      "\u001b[0;32m/media/yqin/81614149-2ed8-4c76-82e1-c46763d086fa/pregi/anaconda3/envs/21cm/lib/python3.8/site-packages/tools21cm/telescope_functions.py\u001b[0m in \u001b[0;36mget_uv_daily_observation\u001b[0;34m(ncells, z, filename, total_int_time, int_time, boxsize, declination, verbose)\u001b[0m\n\u001b[1;32m    128\u001b[0m         \u001b[0mprint\u001b[0m\u001b[0;34m(\u001b[0m\u001b[0;34m\"Making uv map from daily observations.\"\u001b[0m\u001b[0;34m)\u001b[0m\u001b[0;34m\u001b[0m\u001b[0;34m\u001b[0m\u001b[0m\n\u001b[1;32m    129\u001b[0m         \u001b[0;32mfor\u001b[0m \u001b[0mi\u001b[0m \u001b[0;32min\u001b[0m \u001b[0mrange\u001b[0m\u001b[0;34m(\u001b[0m\u001b[0mtot_num_obs\u001b[0m\u001b[0;34m-\u001b[0m\u001b[0;36m1\u001b[0m\u001b[0;34m)\u001b[0m\u001b[0;34m:\u001b[0m\u001b[0;34m\u001b[0m\u001b[0;34m\u001b[0m\u001b[0m\n\u001b[0;32m--> 130\u001b[0;31m                 \u001b[0mnew_Nbase\u001b[0m \u001b[0;34m=\u001b[0m \u001b[0mearth_rotation_effect\u001b[0m\u001b[0;34m(\u001b[0m\u001b[0mNbase\u001b[0m\u001b[0;34m,\u001b[0m \u001b[0mi\u001b[0m\u001b[0;34m+\u001b[0m\u001b[0;36m1\u001b[0m\u001b[0;34m,\u001b[0m \u001b[0mint_time\u001b[0m\u001b[0;34m,\u001b[0m \u001b[0mdeclination\u001b[0m\u001b[0;34m=\u001b[0m\u001b[0mdeclination\u001b[0m\u001b[0;34m)\u001b[0m\u001b[0;34m\u001b[0m\u001b[0;34m\u001b[0m\u001b[0m\n\u001b[0m\u001b[1;32m    131\u001b[0m                 \u001b[0muv_map1\u001b[0m   \u001b[0;34m=\u001b[0m \u001b[0mget_uv_coverage\u001b[0m\u001b[0;34m(\u001b[0m\u001b[0mnew_Nbase\u001b[0m\u001b[0;34m,\u001b[0m \u001b[0mz\u001b[0m\u001b[0;34m,\u001b[0m \u001b[0mncells\u001b[0m\u001b[0;34m,\u001b[0m \u001b[0mboxsize\u001b[0m\u001b[0;34m=\u001b[0m\u001b[0mboxsize\u001b[0m\u001b[0;34m)\u001b[0m\u001b[0;34m\u001b[0m\u001b[0;34m\u001b[0m\u001b[0m\n\u001b[1;32m    132\u001b[0m                 \u001b[0muv_map\u001b[0m   \u001b[0;34m+=\u001b[0m \u001b[0muv_map1\u001b[0m\u001b[0;34m\u001b[0m\u001b[0;34m\u001b[0m\u001b[0m\n",
      "\u001b[0;32m/media/yqin/81614149-2ed8-4c76-82e1-c46763d086fa/pregi/anaconda3/envs/21cm/lib/python3.8/site-packages/tools21cm/telescope_functions.py\u001b[0m in \u001b[0;36mearth_rotation_effect\u001b[0;34m(Nbase, slice_num, int_time, declination)\u001b[0m\n\u001b[1;32m     88\u001b[0m         \u001b[0mnew_Nbase\u001b[0m\u001b[0;34m[\u001b[0m\u001b[0;34m:\u001b[0m\u001b[0;34m,\u001b[0m\u001b[0;36m0\u001b[0m\u001b[0;34m]\u001b[0m \u001b[0;34m=\u001b[0m \u001b[0mnp\u001b[0m\u001b[0;34m.\u001b[0m\u001b[0msin\u001b[0m\u001b[0;34m(\u001b[0m\u001b[0mHA\u001b[0m\u001b[0;34m)\u001b[0m\u001b[0;34m*\u001b[0m\u001b[0mNbase\u001b[0m\u001b[0;34m[\u001b[0m\u001b[0;34m:\u001b[0m\u001b[0;34m,\u001b[0m\u001b[0;36m0\u001b[0m\u001b[0;34m]\u001b[0m \u001b[0;34m+\u001b[0m \u001b[0mnp\u001b[0m\u001b[0;34m.\u001b[0m\u001b[0mcos\u001b[0m\u001b[0;34m(\u001b[0m\u001b[0mHA\u001b[0m\u001b[0;34m)\u001b[0m\u001b[0;34m*\u001b[0m\u001b[0mNbase\u001b[0m\u001b[0;34m[\u001b[0m\u001b[0;34m:\u001b[0m\u001b[0;34m,\u001b[0m\u001b[0;36m1\u001b[0m\u001b[0;34m]\u001b[0m\u001b[0;34m\u001b[0m\u001b[0;34m\u001b[0m\u001b[0m\n\u001b[1;32m     89\u001b[0m         \u001b[0mnew_Nbase\u001b[0m\u001b[0;34m[\u001b[0m\u001b[0;34m:\u001b[0m\u001b[0;34m,\u001b[0m\u001b[0;36m1\u001b[0m\u001b[0;34m]\u001b[0m \u001b[0;34m=\u001b[0m \u001b[0;34m-\u001b[0m\u001b[0;36m1.0\u001b[0m\u001b[0;34m*\u001b[0m\u001b[0mnp\u001b[0m\u001b[0;34m.\u001b[0m\u001b[0msin\u001b[0m\u001b[0;34m(\u001b[0m\u001b[0mdelta\u001b[0m\u001b[0;34m)\u001b[0m\u001b[0;34m*\u001b[0m\u001b[0mnp\u001b[0m\u001b[0;34m.\u001b[0m\u001b[0mcos\u001b[0m\u001b[0;34m(\u001b[0m\u001b[0mHA\u001b[0m\u001b[0;34m)\u001b[0m\u001b[0;34m*\u001b[0m\u001b[0mNbase\u001b[0m\u001b[0;34m[\u001b[0m\u001b[0;34m:\u001b[0m\u001b[0;34m,\u001b[0m\u001b[0;36m0\u001b[0m\u001b[0;34m]\u001b[0m \u001b[0;34m+\u001b[0m \u001b[0mnp\u001b[0m\u001b[0;34m.\u001b[0m\u001b[0msin\u001b[0m\u001b[0;34m(\u001b[0m\u001b[0mdelta\u001b[0m\u001b[0;34m)\u001b[0m\u001b[0;34m*\u001b[0m\u001b[0mnp\u001b[0m\u001b[0;34m.\u001b[0m\u001b[0msin\u001b[0m\u001b[0;34m(\u001b[0m\u001b[0mHA\u001b[0m\u001b[0;34m)\u001b[0m\u001b[0;34m*\u001b[0m\u001b[0mNbase\u001b[0m\u001b[0;34m[\u001b[0m\u001b[0;34m:\u001b[0m\u001b[0;34m,\u001b[0m\u001b[0;36m1\u001b[0m\u001b[0;34m]\u001b[0m \u001b[0;34m+\u001b[0m \u001b[0mnp\u001b[0m\u001b[0;34m.\u001b[0m\u001b[0mcos\u001b[0m\u001b[0;34m(\u001b[0m\u001b[0mdelta\u001b[0m\u001b[0;34m)\u001b[0m\u001b[0;34m*\u001b[0m\u001b[0mNbase\u001b[0m\u001b[0;34m[\u001b[0m\u001b[0;34m:\u001b[0m\u001b[0;34m,\u001b[0m\u001b[0;36m2\u001b[0m\u001b[0;34m]\u001b[0m\u001b[0;34m\u001b[0m\u001b[0;34m\u001b[0m\u001b[0m\n\u001b[0;32m---> 90\u001b[0;31m         \u001b[0mnew_Nbase\u001b[0m\u001b[0;34m[\u001b[0m\u001b[0;34m:\u001b[0m\u001b[0;34m,\u001b[0m\u001b[0;36m2\u001b[0m\u001b[0;34m]\u001b[0m \u001b[0;34m=\u001b[0m \u001b[0mnp\u001b[0m\u001b[0;34m.\u001b[0m\u001b[0mcos\u001b[0m\u001b[0;34m(\u001b[0m\u001b[0mdelta\u001b[0m\u001b[0;34m)\u001b[0m\u001b[0;34m*\u001b[0m\u001b[0mnp\u001b[0m\u001b[0;34m.\u001b[0m\u001b[0mcos\u001b[0m\u001b[0;34m(\u001b[0m\u001b[0mHA\u001b[0m\u001b[0;34m)\u001b[0m\u001b[0;34m*\u001b[0m\u001b[0mNbase\u001b[0m\u001b[0;34m[\u001b[0m\u001b[0;34m:\u001b[0m\u001b[0;34m,\u001b[0m\u001b[0;36m0\u001b[0m\u001b[0;34m]\u001b[0m \u001b[0;34m-\u001b[0m \u001b[0mnp\u001b[0m\u001b[0;34m.\u001b[0m\u001b[0mcos\u001b[0m\u001b[0;34m(\u001b[0m\u001b[0mdelta\u001b[0m\u001b[0;34m)\u001b[0m\u001b[0;34m*\u001b[0m\u001b[0mnp\u001b[0m\u001b[0;34m.\u001b[0m\u001b[0msin\u001b[0m\u001b[0;34m(\u001b[0m\u001b[0mHA\u001b[0m\u001b[0;34m)\u001b[0m\u001b[0;34m*\u001b[0m\u001b[0mNbase\u001b[0m\u001b[0;34m[\u001b[0m\u001b[0;34m:\u001b[0m\u001b[0;34m,\u001b[0m\u001b[0;36m1\u001b[0m\u001b[0;34m]\u001b[0m \u001b[0;34m+\u001b[0m \u001b[0mnp\u001b[0m\u001b[0;34m.\u001b[0m\u001b[0msin\u001b[0m\u001b[0;34m(\u001b[0m\u001b[0mdelta\u001b[0m\u001b[0;34m)\u001b[0m\u001b[0;34m*\u001b[0m\u001b[0mNbase\u001b[0m\u001b[0;34m[\u001b[0m\u001b[0;34m:\u001b[0m\u001b[0;34m,\u001b[0m\u001b[0;36m2\u001b[0m\u001b[0;34m]\u001b[0m\u001b[0;34m\u001b[0m\u001b[0;34m\u001b[0m\u001b[0m\n\u001b[0m\u001b[1;32m     91\u001b[0m         \u001b[0;32mreturn\u001b[0m \u001b[0mnew_Nbase\u001b[0m\u001b[0;34m\u001b[0m\u001b[0;34m\u001b[0m\u001b[0m\n\u001b[1;32m     92\u001b[0m \u001b[0;34m\u001b[0m\u001b[0m\n",
      "\u001b[0;31mKeyboardInterrupt\u001b[0m: "
     ]
    }
   ],
   "source": [
    "uv, N_ant = t2c.noise_model.make_uv_map_lightcone(ncells=200, zs=redshifts_mean, boxsize=300)"
   ]
  },
  {
   "cell_type": "code",
   "execution_count": null,
   "metadata": {},
   "outputs": [],
   "source": [
    "finalBox = []\n",
    "for i in range(Box.shape[-1]):\n",
    "    noise = t2c.noise_model.noise_map(ncells=200, \n",
    "                                      z=redshifts_mean[i], \n",
    "                                      depth_mhz=t2c.const.z_to_nu(redshifts[i]) - t2c.const.z_to_nu(redshifts[i+1]),\n",
    "                                      boxsize=300,\n",
    "                                      uv_map=uv[i],\n",
    "                                      N_ant=N_ant)\n",
    "    noise = t2c.telescope_functions.jansky_to_kelvin(noise, redshifts_mean[i])\n",
    "    x = np.fft.fft2(Box[i]) + np.fft.fft2(noise)\n",
    "    x[uv[i]==0] = 0\n",
    "    finalBox.append(np.real(np.fft.ifft2(x)))"
   ]
  },
  {
   "cell_type": "code",
   "execution_count": null,
   "metadata": {},
   "outputs": [],
   "source": [
    "finalBox = np.array(finalBox, dtype=np.float32)\n"
   ]
  }
 ],
 "metadata": {
  "kernelspec": {
   "display_name": "Python 3",
   "language": "python",
   "name": "python3"
  },
  "language_info": {
   "codemirror_mode": {
    "name": "ipython",
    "version": 3
   },
   "file_extension": ".py",
   "mimetype": "text/x-python",
   "name": "python",
   "nbconvert_exporter": "python",
   "pygments_lexer": "ipython3",
   "version": "3.8.1"
  }
 },
 "nbformat": 4,
 "nbformat_minor": 4
}
