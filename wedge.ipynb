{
 "cells": [
  {
   "cell_type": "code",
   "execution_count": 14,
   "metadata": {},
   "outputs": [
    {
     "name": "stdout",
     "output_type": "stream",
     "text": [
      "loading lightcone\n",
      "removing large Z\n",
      "removing NaNs\n",
      "clipping large values\n",
      "removing large Z for average\n"
     ]
    }
   ],
   "source": [
    "import argparse\n",
    "parser = argparse.ArgumentParser(prog = 'Run Model')\n",
    "parser.add_argument('--WalkerID', type=int, choices=range(10000), default=0)\n",
    "parser.add_argument('--uv_filepath', type=str, default='uv_final.npy')\n",
    "parser.add_argument('--saving_location', type=str, default='')\n",
    "parser.add_argument('--averages_fstring', type=str, default='averages_{}_float32.npy')\n",
    "parser.add_argument('--BoxesPath', type=str, default=\"/amphora/bradley.greig/21CMMC_wTs_LC_RSDs_Nicolas/Programs/LightConeBoxes\")\n",
    "parser.add_argument('--ParametersPath', type=str, default=\"/amphora/bradley.greig/21CMMC_wTs_LC_RSDs_Nicolas/Programs/GridPositions\")\n",
    "parser.add_argument('--depth_mhz', type=int, default = 0) # if depth==0 calculate it from cube, else fix it to given value\n",
    "# parser.add_argument('--uv_treshold', type=int, default = 1) # taking in account only baselines which were visited uv_treshold amount of times \n",
    "parser.add_argument('--SKA_observation_time', type=int, default = 1000)\n",
    "inputs = parser.parse_args(\"--WalkerID 9999 --uv_filepath ../data/uv_Steven.npy --saving_location ../DatabaseTest --BoxesPath ../DatabaseTest --averages_fstring ../DatabaseTest/averages_{}_float32.npy\".split(\" \"))\n",
    "\n",
    "import numpy as np\n",
    "import sys\n",
    "import os\n",
    "from src.py21cnn.database import DatabaseUtils\n",
    "from src.py21cnn.formatting import Filters\n",
    "import json\n",
    "\n",
    "import matplotlib.pyplot as plt\n",
    "import matplotlib\n",
    "plt.rc('text', usetex=True)\n",
    "plt.rc('font', family='serif')\n",
    "%matplotlib inline\n",
    "\n",
    "#define path to database, send to program as parameters if different from default\n",
    "Redshifts = ['006.00060', '006.75589', '007.63960', '008.68274', '009.92624', '011.42503', \\\n",
    "            '013.25424', '015.51874', '018.36856', '022.02434', '026.82138', '033.28927', '034.50984']\n",
    "Parameters = [\"ZETA\", \"TVIR_MIN\", \"L_X\", \"NU_X_THRESH\"]\n",
    "database = DatabaseUtils.Database(Parameters, Redshifts, inputs.BoxesPath, inputs.ParametersPath)\n",
    "deltaTmin = -250\n",
    "deltaTmax = 50\n",
    "Zmax = 30\n",
    "\n",
    "print(\"loading lightcone\")\n",
    "Box = database.CombineBoxes(inputs.WalkerID)\n",
    "print(\"removing large Z\")\n",
    "Box = Filters.RemoveLargeZ(Box, database, Z=Zmax)\n",
    "print(\"removing NaNs\")\n",
    "np.nan_to_num(Box, copy=False, nan=deltaTmin, posinf=deltaTmax, neginf=deltaTmin)\n",
    "print(\"clipping large values\")\n",
    "np.clip(Box, deltaTmin, deltaTmax, out=Box)\n",
    "\n",
    "BoxAverage = np.load(inputs.averages_fstring.format(inputs.WalkerID))\n",
    "print(\"removing large Z for average\")\n",
    "BoxAverage = Filters.RemoveLargeZ(BoxAverage, database, Z=Zmax)\n",
    "\n",
    "Box -= BoxAverage"
   ]
  },
  {
   "cell_type": "code",
   "execution_count": 15,
   "metadata": {},
   "outputs": [],
   "source": [
    "import tools21cm as t2c\n",
    "N_ant = 512 #or 513?\n",
    "\n",
    "t2c.const.set_hubble_h(0.678)\n",
    "t2c.const.set_omega_matter(0.308)\n",
    "t2c.const.set_omega_baryon(0.048425)\n",
    "t2c.const.set_omega_lambda(0.692)\n",
    "t2c.const.set_ns(0.968)\n",
    "t2c.const.set_sigma_8(0.815)\n",
    "\n",
    "d0 = t2c.cosmology.z_to_cdist(float(Redshifts[0]))\n",
    "cdist = np.array(range(Box.shape[-1] + 1))*1.5 + d0\n",
    "redshifts = t2c.cosmology.cdist_to_z(cdist)\n",
    "redshifts_mean = (redshifts[:-1] + redshifts[1:]) / 2"
   ]
  },
  {
   "cell_type": "code",
   "execution_count": 16,
   "metadata": {},
   "outputs": [],
   "source": [
    "def noise(Box, depth_mhz, uv, seed_index):\n",
    "    finalBox = []\n",
    "    for i in range(Box.shape[-1]):\n",
    "        if depth_mhz == 0:\n",
    "            depth_mhz = t2c.cosmology.z_to_nu(redshifts[i]) - t2c.cosmology.z_to_nu(redshifts[i+1])\n",
    "        noise = t2c.noise_model.noise_map(ncells=200,\n",
    "                                          z=redshifts_mean[i],\n",
    "                                          depth_mhz=depth_mhz,\n",
    "                                          obs_time=inputs.SKA_observation_time,\n",
    "                                          boxsize=300, \n",
    "                                          uv_map=uv[..., i],\n",
    "                                          N_ant=N_ant,\n",
    "                                          seed = 1000000*i + 100*inputs.WalkerID + seed_index, #last index is noise number index\n",
    "                                          ) # I've corrected the function so it returns noise in uv, not in real space\n",
    "        noise = t2c.telescope_functions.jansky_2_kelvin(noise, redshifts_mean[i])\n",
    "        finalBox.append(noise)\n",
    "    finalBox = np.moveaxis(np.array(finalBox), 0, -1)\n",
    "    finalBox[uv_bool] = 0\n",
    "    return finalBox\n",
    "def noise_n_signal(Box, depth_mhz, uv, seed_index):\n",
    "    Noise = noise(Box, depth_mhz, uv, seed_index)\n",
    "    return np.real(np.fft.ifft2(Box + Noise, axes=(0, 1)))"
   ]
  },
  {
   "cell_type": "code",
   "execution_count": 17,
   "metadata": {},
   "outputs": [],
   "source": [
    "uv = np.load(inputs.uv_filepath)\n",
    "uv_bool = (uv < 1)\n",
    "\n",
    "Box = np.fft.fft2(Box, axes=(0, 1))\n",
    "Box[uv_bool] = 0\n",
    "Box = noise_n_signal(Box, 0, uv, seed_index = 0)"
   ]
  },
  {
   "cell_type": "code",
   "execution_count": 18,
   "metadata": {},
   "outputs": [],
   "source": [
    "from scipy.integrate import quadrature"
   ]
  },
  {
   "cell_type": "code",
   "execution_count": 19,
   "metadata": {},
   "outputs": [],
   "source": [
    "def E(z):\n",
    "    return np.sqrt(t2c.const.Omega0*(1.+z)**3+t2c.const.lam)\n",
    "def kappa(z, k_cube, b = 0):\n",
    "    return np.sqrt(k_cube[0]**2 + k_cube[1]**2) * E(z) / (1+z) * quadrature(1/E, 0, z)[0] + b\n",
    "def W(k_cube, z, b = 0):\n",
    "    k_scaled = k_cube[2] / kappa(z, k_cube, b)\n",
    "    return 1 - (k_scaled >= -1.) * (k_scaled <= 1.)"
   ]
  },
  {
   "cell_type": "code",
   "execution_count": 20,
   "metadata": {},
   "outputs": [],
   "source": [
    "k_perp = np.fft.fftfreq(Box.shape[0], d=1.5)\n",
    "k_parallel = np.fft.fftfreq(Box.shape[-1], d=1.5)\n",
    "k_cube = np.meshgrid(k_perp, k_perp, k_parallel)"
   ]
  },
  {
   "cell_type": "code",
   "execution_count": null,
   "metadata": {},
   "outputs": [],
   "source": [
    "Box_final = np.zeros(Box.shape)\n",
    "Box_inv = np.fft.fftn(Box)\n",
    "for z in redshifts_mean:\n",
    "    "
   ]
  }
 ],
 "metadata": {
  "kernelspec": {
   "display_name": "Python 3",
   "language": "python",
   "name": "python3"
  },
  "language_info": {
   "codemirror_mode": {
    "name": "ipython",
    "version": 3
   },
   "file_extension": ".py",
   "mimetype": "text/x-python",
   "name": "python",
   "nbconvert_exporter": "python",
   "pygments_lexer": "ipython3",
   "version": "3.8.1"
  }
 },
 "nbformat": 4,
 "nbformat_minor": 4
}
